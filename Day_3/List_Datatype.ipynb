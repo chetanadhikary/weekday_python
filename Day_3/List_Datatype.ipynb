{
 "cells": [
  {
   "cell_type": "markdown",
   "metadata": {},
   "source": [
    "## List Datatype"
   ]
  },
  {
   "cell_type": "markdown",
   "metadata": {},
   "source": [
    "<html>\n",
    "<ul>\n",
    "<li> Lists can be created using [] </li>\n",
    "<li> Empty lists can also be created </li>\n",
    "<li> List can also be created using list() keyword </li>\n",
    "<li> List items can be of different datatypes </li>\n",
    "</ul>\n",
    "</html>"
   ]
  },
  {
   "cell_type": "code",
   "execution_count": null,
   "metadata": {},
   "outputs": [],
   "source": [
    "# List \n",
    "lst_num = [1,2,3,5,6,7,8]\n",
    "#List with items of different datatypes\n",
    "lst_items = [1,2.5,'harry']"
   ]
  },
  {
   "cell_type": "markdown",
   "metadata": {},
   "source": [
    "## Indexing"
   ]
  },
  {
   "cell_type": "code",
   "execution_count": null,
   "metadata": {
    "tags": []
   },
   "outputs": [],
   "source": [
    "# Indexing with positive integer\n",
    "print(f'lst_num[0] : {lst_num[0]}')\n",
    "#indexing with negative integer\n",
    "print(f'lst_num[-3] : {lst_num[-3]}')"
   ]
  },
  {
   "cell_type": "markdown",
   "metadata": {},
   "source": [
    "## Slicing"
   ]
  },
  {
   "cell_type": "code",
   "execution_count": null,
   "metadata": {
    "tags": []
   },
   "outputs": [],
   "source": [
    "print(f'lst_num[1:5] : {lst_num[1:5]}' )\n",
    "print(f'lst_num[::2]:{lst_num[::2]}')"
   ]
  },
  {
   "cell_type": "markdown",
   "metadata": {},
   "source": [
    "## Concatenation of Lists"
   ]
  },
  {
   "cell_type": "code",
   "execution_count": null,
   "metadata": {
    "tags": []
   },
   "outputs": [],
   "source": [
    "lst_r = lst_num + lst_items\n",
    "print(lst_r)"
   ]
  },
  {
   "cell_type": "markdown",
   "metadata": {},
   "source": [
    "## Important Functions of Lists"
   ]
  },
  {
   "cell_type": "markdown",
   "metadata": {},
   "source": [
    "### Append"
   ]
  },
  {
   "cell_type": "code",
   "execution_count": null,
   "metadata": {
    "tags": []
   },
   "outputs": [],
   "source": [
    "help(lst_num.append)"
   ]
  },
  {
   "cell_type": "code",
   "execution_count": null,
   "metadata": {
    "tags": []
   },
   "outputs": [],
   "source": [
    "# Items can be added at the end of list using append function.\n",
    "# Only one object can be added at a time \n",
    "print(f'lst_num.append(400) --> {lst_num}')\n",
    "lst_items.append('Python')\n",
    "print(f'lst_items.append(\\'Python\\') --> {lst_items}')"
   ]
  },
  {
   "cell_type": "markdown",
   "metadata": {},
   "source": [
    "### Extend"
   ]
  },
  {
   "cell_type": "code",
   "execution_count": null,
   "metadata": {
    "tags": []
   },
   "outputs": [],
   "source": [
    "help(list.extend)"
   ]
  },
  {
   "cell_type": "code",
   "execution_count": null,
   "metadata": {
    "tags": []
   },
   "outputs": [],
   "source": [
    "# Multiple items can be added to an existing list by using the function extend.\n",
    "# Extends takes multiple objects in form of lists/tuples/any iterable\n",
    "# Here the list lst_items is extended to include all the objects present in lst_num\n",
    "lst_items.extend(lst_num)\n",
    "print(f'lst_items after extension --> {lst_items}')"
   ]
  },
  {
   "cell_type": "markdown",
   "metadata": {},
   "source": [
    "### Insert"
   ]
  },
  {
   "cell_type": "code",
   "execution_count": null,
   "metadata": {
    "tags": []
   },
   "outputs": [],
   "source": [
    "help(list.insert)"
   ]
  },
  {
   "cell_type": "code",
   "execution_count": null,
   "metadata": {},
   "outputs": [],
   "source": []
  },
  {
   "cell_type": "code",
   "execution_count": null,
   "metadata": {},
   "outputs": [],
   "source": []
  },
  {
   "cell_type": "code",
   "execution_count": null,
   "metadata": {},
   "outputs": [],
   "source": []
  },
  {
   "cell_type": "code",
   "execution_count": null,
   "metadata": {},
   "outputs": [],
   "source": []
  },
  {
   "cell_type": "code",
   "execution_count": null,
   "metadata": {},
   "outputs": [],
   "source": []
  },
  {
   "cell_type": "code",
   "execution_count": null,
   "metadata": {},
   "outputs": [],
   "source": []
  },
  {
   "cell_type": "markdown",
   "metadata": {},
   "source": [
    "## Lists are Mutable"
   ]
  },
  {
   "cell_type": "code",
   "execution_count": null,
   "metadata": {
    "tags": []
   },
   "outputs": [],
   "source": [
    "lst_num[3] = 'hello' # Assign reference of 'hello' to the 4th position indexed as 3\n",
    "print(lst_num)"
   ]
  },
  {
   "cell_type": "markdown",
   "metadata": {},
   "source": [
    "## Mutability Issue"
   ]
  },
  {
   "cell_type": "code",
   "execution_count": null,
   "metadata": {},
   "outputs": [],
   "source": [
    "lst_int = [1,2,3,4,5,6,7,8,9,0]\n",
    "lst_mod = lst_int"
   ]
  },
  {
   "cell_type": "code",
   "execution_count": null,
   "metadata": {
    "tags": []
   },
   "outputs": [],
   "source": [
    "# Modify lst_mod\n",
    "lst_mod[3] = 45\n",
    "# Check lst_int\n",
    "print(lst_int)\n"
   ]
  },
  {
   "cell_type": "markdown",
   "metadata": {},
   "source": [
    "<html>\n",
    "<p> The list lst_int has been modified , even when did not explicitly use lst_int in the modification.<p>\n",
    "<p> This happened because lst_mod did not copy the values of lst_int , but copied the references. </p>\n",
    "<p> That is , if the references are changed in lst_mod , then since lst_int is refering to the same reference, even lst_int references change.</p>\n",
    "<p> Solution to this problem is to create a new location copying the values </p>\n",
    "</html>"
   ]
  },
  {
   "cell_type": "code",
   "execution_count": null,
   "metadata": {},
   "outputs": [],
   "source": [
    "lst_int = [1,2,3,4,5,6,7,8,9,0]\n",
    "## Create a copy of lst_int by using ':'\n",
    "lst_mod2 = lst_int[:] # This creates a shallow copy of lst_int"
   ]
  },
  {
   "cell_type": "code",
   "execution_count": null,
   "metadata": {
    "tags": []
   },
   "outputs": [],
   "source": [
    "lst_mod2[3] = 78\n",
    "print(lst_int,lst_mod2) "
   ]
  },
  {
   "cell_type": "markdown",
   "metadata": {},
   "source": [
    "### Example for two level deep of lists"
   ]
  },
  {
   "cell_type": "code",
   "execution_count": null,
   "metadata": {
    "tags": []
   },
   "outputs": [],
   "source": [
    "lst_items = [1,2,3,4,5,6,7,8,9,0]\n",
    "lst_items[4] = ['harry','Ron','Dumbledore']\n",
    "print(lst_items)"
   ]
  },
  {
   "cell_type": "code",
   "execution_count": null,
   "metadata": {
    "tags": []
   },
   "outputs": [],
   "source": [
    "lst_mod3 = lst_items[:] # shallow copy of lst_items\n",
    "lst_mod3[4][0] = 'Draco'\n",
    "print(lst_mod3, '\\n', lst_items)"
   ]
  },
  {
   "cell_type": "markdown",
   "metadata": {},
   "source": [
    "<html>\n",
    "<p>This problem exists because , the copy of lst_items was only done for the first level and not for the subsequent items (a new list) which is called 'Shallow copy'</p>\n",
    "<p> Solution is to create Deep Copy </p>\n",
    "\n"
   ]
  },
  {
   "cell_type": "code",
   "execution_count": null,
   "metadata": {
    "tags": []
   },
   "outputs": [],
   "source": [
    "import copy # Module copy has deepcopy function\n",
    "lst_mod3 = copy.deepcopy(lst_items[:]) # deep copy of lst_items\n",
    "lst_mod3[4][0] = 'Harry'\n",
    "print(lst_mod3, '\\n', lst_items)"
   ]
  },
  {
   "cell_type": "markdown",
   "metadata": {},
   "source": [
    "## Exercise"
   ]
  },
  {
   "cell_type": "markdown",
   "metadata": {},
   "source": [
    "<html>\n",
    "<ol>\n",
    "<li> Write a program to accept numerical inputs from users.</li>\n",
    "<ol>\n",
    "<li> Inputs given from the users would be comma seperated or space seperated numbers(int/float)</li>\n",
    "<li> Extract the numbers and find the average of those numbers.</li>\n",
    "</ol>\n",
    "</ol>\n",
    "<b>Hint:</b>\n",
    "<ol>\n",
    "<li> Use split function of string to extract numbers</li>\n",
    "<li> Apply sum() and len() functions to the lists </li>\n",
    "</ol>\n",
    "</html>"
   ]
  }
 ],
 "metadata": {
  "kernelspec": {
   "display_name": "Python 3",
   "language": "python",
   "name": "python3"
  },
  "language_info": {
   "codemirror_mode": {
    "name": "ipython",
    "version": 3
   },
   "file_extension": ".py",
   "mimetype": "text/x-python",
   "name": "python",
   "nbconvert_exporter": "python",
   "pygments_lexer": "ipython3",
   "version": "3.7.7"
  },
  "toc": {
   "base_numbering": 1,
   "nav_menu": {},
   "number_sections": true,
   "sideBar": true,
   "skip_h1_title": false,
   "title_cell": "Table of Contents",
   "title_sidebar": "Contents",
   "toc_cell": false,
   "toc_position": {},
   "toc_section_display": true,
   "toc_window_display": false
  }
 },
 "nbformat": 4,
 "nbformat_minor": 2
}
