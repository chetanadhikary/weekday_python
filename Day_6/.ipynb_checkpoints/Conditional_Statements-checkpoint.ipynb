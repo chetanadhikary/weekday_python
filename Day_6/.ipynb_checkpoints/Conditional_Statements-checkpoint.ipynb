{
 "cells": [
  {
   "cell_type": "markdown",
   "metadata": {},
   "source": [
    "## Numerical Datatype"
   ]
  },
  {
   "cell_type": "code",
   "execution_count": 5,
   "metadata": {},
   "outputs": [],
   "source": [
    "x = 7687\n",
    "y = 10.35\n",
    "z = 125"
   ]
  },
  {
   "cell_type": "markdown",
   "metadata": {},
   "source": [
    "### Simple If else statement"
   ]
  },
  {
   "cell_type": "markdown",
   "metadata": {},
   "source": [
    "* Find the largest number"
   ]
  },
  {
   "cell_type": "code",
   "execution_count": 6,
   "metadata": {
    "tags": []
   },
   "outputs": [
    {
     "name": "stdout",
     "output_type": "stream",
     "text": [
      "X = 7687 is the largest number\n"
     ]
    }
   ],
   "source": [
    "if x>y and x>z:\n",
    "    print('X = {} is the largest number'.format(x))\n",
    "elif y>x and y>z:\n",
    "    print('Y = {} is the largest number'.format(y))\n",
    "else:\n",
    "    print('Z = {} is the largest number'.format(z))\n",
    "    "
   ]
  },
  {
   "cell_type": "markdown",
   "metadata": {},
   "source": [
    "### Nested If else statement"
   ]
  },
  {
   "cell_type": "code",
   "execution_count": 7,
   "metadata": {
    "tags": []
   },
   "outputs": [
    {
     "name": "stdout",
     "output_type": "stream",
     "text": [
      "X = 7687 is the largest number\n"
     ]
    }
   ],
   "source": [
    "if x>y :\n",
    "    if x>z:\n",
    "        print('X = {} is the largest number'.format(x))\n",
    "    else:\n",
    "        print('Z = {} is the largest number'.format(z))\n",
    "else:\n",
    "    if y>z:\n",
    "        print('Y = {} is the largest number'.format(y))\n",
    "    else:\n",
    "        print('Z = {} is the largest number'.format(z))\n",
    "    "
   ]
  },
  {
   "cell_type": "markdown",
   "metadata": {},
   "source": [
    "<html>\n",
    "    <b> 1. Write a program to prompt for a score between 0.0 and 1.0. If the\n",
    "score is out of range, print an error message. If the score is between 0.0 and 1.0,\n",
    "print a grade using the following table:\n",
    "        <p> Score Grade\n",
    "            <br>>= 0.9 A\n",
    "            <br>>= 0.8 B\n",
    "            <br>>= 0.7 C\n",
    "            <br>>= 0.6 D\n",
    "            <br>< 0.6  F "
   ]
  },
  {
   "cell_type": "code",
   "execution_count": 8,
   "metadata": {
    "tags": []
   },
   "outputs": [
    {
     "name": "stdout",
     "output_type": "stream",
     "text": [
      "D\n"
     ]
    }
   ],
   "source": [
    "# %load if_1.py\n",
    "score = float(input('Enter a score between 0.0 to 1.0: '))\n",
    "if score < 1.0 and score > 0.0:\n",
    "    if score >= 0.9:\n",
    "        print('A')\n",
    "    elif score >= 0.8:\n",
    "        print('B')\n",
    "    elif score >= 0.7:\n",
    "        print('C')\n",
    "    elif score >= 0.6:\n",
    "        print('D')\n",
    "    elif score < 0.6:\n",
    "        print('F')\n",
    "else:\n",
    "    print('Bad Score')\n"
   ]
  },
  {
   "cell_type": "markdown",
   "metadata": {},
   "source": [
    "## Text Datatype"
   ]
  },
  {
   "cell_type": "code",
   "execution_count": 9,
   "metadata": {
    "tags": []
   },
   "outputs": [
    {
     "name": "stdout",
     "output_type": "stream",
     "text": [
      "['__add__', '__class__', '__contains__', '__delattr__', '__dir__', '__doc__', '__eq__', '__format__', '__ge__', '__getattribute__', '__getitem__', '__getnewargs__', '__gt__', '__hash__', '__init__', '__init_subclass__', '__iter__', '__le__', '__len__', '__lt__', '__mod__', '__mul__', '__ne__', '__new__', '__reduce__', '__reduce_ex__', '__repr__', '__rmod__', '__rmul__', '__setattr__', '__sizeof__', '__str__', '__subclasshook__', 'capitalize', 'casefold', 'center', 'count', 'encode', 'endswith', 'expandtabs', 'find', 'format', 'format_map', 'index', 'isalnum', 'isalpha', 'isascii', 'isdecimal', 'isdigit', 'isidentifier', 'islower', 'isnumeric', 'isprintable', 'isspace', 'istitle', 'isupper', 'join', 'ljust', 'lower', 'lstrip', 'maketrans', 'partition', 'replace', 'rfind', 'rindex', 'rjust', 'rpartition', 'rsplit', 'rstrip', 'split', 'splitlines', 'startswith', 'strip', 'swapcase', 'title', 'translate', 'upper', 'zfill']\n"
     ]
    }
   ],
   "source": [
    "print(dir(str))"
   ]
  },
  {
   "cell_type": "code",
   "execution_count": 10,
   "metadata": {},
   "outputs": [],
   "source": [
    "subject = 'artificial intelligence'"
   ]
  },
  {
   "cell_type": "markdown",
   "metadata": {},
   "source": [
    "* Check for the title case"
   ]
  },
  {
   "cell_type": "code",
   "execution_count": 11,
   "metadata": {
    "tags": []
   },
   "outputs": [
    {
     "name": "stdout",
     "output_type": "stream",
     "text": [
      "Subject Artificial Intelligence is changed to title case\n"
     ]
    }
   ],
   "source": [
    "if not(subject.istitle()):\n",
    "    subject = subject.title()\n",
    "    print('Subject {} is changed to title case'.format(subject))\n",
    "else:\n",
    "    print('Subject {} is in title case'.format(subject))"
   ]
  },
  {
   "cell_type": "markdown",
   "metadata": {},
   "source": [
    "<html>\n",
    "    <b> 2. Write a program to check if the entered string is valid email ID </b>\n",
    "    <p> Hint:\n",
    "        <br> Check for the character '@' in the string </p>"
   ]
  },
  {
   "cell_type": "code",
   "execution_count": 12,
   "metadata": {
    "tags": []
   },
   "outputs": [
    {
     "name": "stdout",
     "output_type": "stream",
     "text": [
      "Its valid email ID\n"
     ]
    }
   ],
   "source": [
    "email = input('Enter your email id')\n",
    "if '@' in email:\n",
    "    print('Its valid email ID')\n",
    "else:\n",
    "    print('Its not a valid email ID')\n"
   ]
  },
  {
   "cell_type": "markdown",
   "metadata": {},
   "source": [
    "## Lists"
   ]
  },
  {
   "cell_type": "code",
   "execution_count": 13,
   "metadata": {
    "tags": []
   },
   "outputs": [
    {
     "name": "stdout",
     "output_type": "stream",
     "text": [
      "['__add__', '__class__', '__contains__', '__delattr__', '__delitem__', '__dir__', '__doc__', '__eq__', '__format__', '__ge__', '__getattribute__', '__getitem__', '__gt__', '__hash__', '__iadd__', '__imul__', '__init__', '__init_subclass__', '__iter__', '__le__', '__len__', '__lt__', '__mul__', '__ne__', '__new__', '__reduce__', '__reduce_ex__', '__repr__', '__reversed__', '__rmul__', '__setattr__', '__setitem__', '__sizeof__', '__str__', '__subclasshook__', 'append', 'clear', 'copy', 'count', 'extend', 'index', 'insert', 'pop', 'remove', 'reverse', 'sort']\n"
     ]
    }
   ],
   "source": [
    "print(dir(list))"
   ]
  },
  {
   "cell_type": "code",
   "execution_count": 14,
   "metadata": {},
   "outputs": [],
   "source": [
    "lst_num_1 = [1,2,3,5,6,7,8,9,10]\n",
    "lst_num_2 = [10,9,8,7,6,5,4,3,2,1]"
   ]
  },
  {
   "cell_type": "markdown",
   "metadata": {},
   "source": [
    "* Check the order (ascending or descending)"
   ]
  },
  {
   "cell_type": "code",
   "execution_count": 15,
   "metadata": {
    "tags": []
   },
   "outputs": [
    {
     "name": "stdout",
     "output_type": "stream",
     "text": [
      "List is in descending order \n"
     ]
    }
   ],
   "source": [
    "if lst_num_2[0] < lst_num_2[-1]:\n",
    "    print('List is in ascending order')\n",
    "else :\n",
    "    print('List is in descending order ')"
   ]
  },
  {
   "cell_type": "markdown",
   "metadata": {},
   "source": [
    "<html>\n",
    "    <b> 3. Write a program to help an user in choosing a fruit when he is ailing from cold . \n",
    "        <br> a. When the user enter the fruit check from the list of edible fruits and non edible fruits\n",
    "        <br> b. Print appropriate message on finding the category of fruit\n",
    "        <br> c. If the fruit is not under the list recommend a doctor suggestion \n",
    "        <p> list of edible fruits \n",
    "            <br> Apple, Gauva, Raspberry, cherry, Jackfruit\n",
    "        <p> List of non-edible fruits\n",
    "            <br> Grapes, Orange,banana,Watermelon, mango"
   ]
  },
  {
   "cell_type": "code",
   "execution_count": 16,
   "metadata": {
    "tags": []
   },
   "outputs": [
    {
     "name": "stdout",
     "output_type": "stream",
     "text": [
      "You can have the fruit apple\n"
     ]
    }
   ],
   "source": [
    "# %load if_3.py\n",
    "lst_edible_fruits = ['apple','gauva','raspberry', 'cherry', 'jackfruit']\n",
    "lst_non_edible_fruits = ['grapes','orange','banana','watermelon','mango']\n",
    "\n",
    "choice_fruit_str = input('Enter a fruit name to check : ')\n",
    "if choice_fruit_str in lst_edible_fruits:\n",
    "    print('You can have the fruit',choice_fruit_str)\n",
    "elif choice_fruit_str in lst_non_edible_fruits:\n",
    "    print('You are forbidden to have this fruit')\n",
    "else:\n",
    "    print('Fruit not listed , Please consult the doctor')\n"
   ]
  },
  {
   "cell_type": "markdown",
   "metadata": {},
   "source": [
    "## Dictionary"
   ]
  },
  {
   "cell_type": "code",
   "execution_count": 17,
   "metadata": {
    "tags": []
   },
   "outputs": [
    {
     "name": "stdout",
     "output_type": "stream",
     "text": [
      "['__class__', '__contains__', '__delattr__', '__delitem__', '__dir__', '__doc__', '__eq__', '__format__', '__ge__', '__getattribute__', '__getitem__', '__gt__', '__hash__', '__init__', '__init_subclass__', '__iter__', '__le__', '__len__', '__lt__', '__ne__', '__new__', '__reduce__', '__reduce_ex__', '__repr__', '__setattr__', '__setitem__', '__sizeof__', '__str__', '__subclasshook__', 'clear', 'copy', 'fromkeys', 'get', 'items', 'keys', 'pop', 'popitem', 'setdefault', 'update', 'values']\n"
     ]
    }
   ],
   "source": [
    "print(dir(dict))"
   ]
  },
  {
   "cell_type": "code",
   "execution_count": 18,
   "metadata": {},
   "outputs": [],
   "source": [
    "dict_num = {1:'one',2:'two',3:'three',4:'four',5:'five'}"
   ]
  },
  {
   "cell_type": "markdown",
   "metadata": {},
   "source": [
    "* Check for an element in dictionary being a key or value"
   ]
  },
  {
   "cell_type": "code",
   "execution_count": 19,
   "metadata": {},
   "outputs": [],
   "source": [
    "element = 'six'"
   ]
  },
  {
   "cell_type": "code",
   "execution_count": 20,
   "metadata": {
    "tags": []
   },
   "outputs": [
    {
     "name": "stdout",
     "output_type": "stream",
     "text": [
      "Element six not found in dictionary\n"
     ]
    }
   ],
   "source": [
    "if element in dict_num.keys():\n",
    "    print('Element {} is a key in the dictionary'.format(element))\n",
    "elif element in dict_num.values():\n",
    "    print('Element {} is a value in the dictionary'.format(element))\n",
    "else:\n",
    "    print('Element {} not found in dictionary'.format(element))"
   ]
  },
  {
   "cell_type": "markdown",
   "metadata": {},
   "source": [
    "<html>\n",
    "    <b> 4. Write a program to help an user in choosing a fruit when he is ailing from cold . \n",
    "        <br> a. When the user enters the fruit, check from the dictionary of edible fruits and non edible fruits\n",
    "        <br> b. Print appropriate message on finding the category of fruit\n",
    "        <br> c. If the fruit is not under the list recommend a doctor suggestion \n",
    "        <p> list of edible fruits \n",
    "            <br> Apple, Gauva, Raspberry, cherry, Jackfruit\n",
    "        <p> List of non-edible fruits\n",
    "            <br> Grapes, Orange,banana,Watermelon, mango"
   ]
  },
  {
   "cell_type": "code",
   "execution_count": 21,
   "metadata": {
    "tags": []
   },
   "outputs": [
    {
     "name": "stdout",
     "output_type": "stream",
     "text": [
      "You are forbidden to have this fruit\n"
     ]
    }
   ],
   "source": [
    "# %load if_4.py\n",
    "lst_edible_fruits = ['apple','gauva','raspberry', 'cherry', 'jackfruit']\n",
    "lst_non_edible_fruits = ['grapes','orange','banana','watermelon','mango']\n",
    "\n",
    "dict_fruits = {'edible_fruits': lst_edible_fruits,\n",
    "               'non_edible_fruits':lst_non_edible_fruits}\n",
    "\n",
    "choice_fruit_str = input('Enter a fruit name to check : ')\n",
    "\n",
    "if choice_fruit_str in dict_fruits['edible_fruits']:\n",
    "    print('You can have the fruit',choice_fruit_str)\n",
    "elif choice_fruit_str in dict_fruits['non_edible_fruits']:\n",
    "    print('You are forbidden to have this fruit')\n",
    "else:\n",
    "    print('Fruit not listed , Please consult the doctor')\n"
   ]
  }
 ],
 "metadata": {
  "kernelspec": {
   "display_name": "Python 3",
   "language": "python",
   "name": "python3"
  },
  "language_info": {
   "codemirror_mode": {
    "name": "ipython",
    "version": 3
   },
   "file_extension": ".py",
   "mimetype": "text/x-python",
   "name": "python",
   "nbconvert_exporter": "python",
   "pygments_lexer": "ipython3",
   "version": "3.7.6"
  }
 },
 "nbformat": 4,
 "nbformat_minor": 2
}
