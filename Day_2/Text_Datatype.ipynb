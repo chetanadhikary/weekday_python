{
 "metadata": {
  "language_info": {
   "codemirror_mode": {
    "name": "ipython",
    "version": 3
   },
   "file_extension": ".py",
   "mimetype": "text/x-python",
   "name": "python",
   "nbconvert_exporter": "python",
   "pygments_lexer": "ipython3",
   "version": "3.7.6-final"
  },
  "orig_nbformat": 2,
  "kernelspec": {
   "name": "python3",
   "display_name": "Python 3"
  }
 },
 "nbformat": 4,
 "nbformat_minor": 2,
 "cells": [
  {
   "cell_type": "markdown",
   "metadata": {},
   "source": [
    "## Text Datatype"
   ]
  },
  {
   "cell_type": "code",
   "execution_count": 1,
   "metadata": {
    "tags": []
   },
   "outputs": [
    {
     "output_type": "stream",
     "name": "stdout",
     "text": "['__add__', '__class__', '__contains__', '__delattr__', '__dir__', '__doc__', '__eq__', '__format__', '__ge__', '__getattribute__', '__getitem__', '__getnewargs__', '__gt__', '__hash__', '__init__', '__init_subclass__', '__iter__', '__le__', '__len__', '__lt__', '__mod__', '__mul__', '__ne__', '__new__', '__reduce__', '__reduce_ex__', '__repr__', '__rmod__', '__rmul__', '__setattr__', '__sizeof__', '__str__', '__subclasshook__', 'capitalize', 'casefold', 'center', 'count', 'encode', 'endswith', 'expandtabs', 'find', 'format', 'format_map', 'index', 'isalnum', 'isalpha', 'isascii', 'isdecimal', 'isdigit', 'isidentifier', 'islower', 'isnumeric', 'isprintable', 'isspace', 'istitle', 'isupper', 'join', 'ljust', 'lower', 'lstrip', 'maketrans', 'partition', 'replace', 'rfind', 'rindex', 'rjust', 'rpartition', 'rsplit', 'rstrip', 'split', 'splitlines', 'startswith', 'strip', 'swapcase', 'title', 'translate', 'upper', 'zfill']\n"
    }
   ],
   "source": [
    "print(dir(str))"
   ]
  },
  {
   "cell_type": "code",
   "execution_count": 2,
   "metadata": {
    "tags": []
   },
   "outputs": [
    {
     "output_type": "stream",
     "name": "stdout",
     "text": "Help on method_descriptor:\n\ncapitalize(self, /)\n    Return a capitalized version of the string.\n    \n    More specifically, make the first character have upper case and the rest lower\n    case.\n\n"
    }
   ],
   "source": [
    "help(str.capitalize)"
   ]
  },
  {
   "cell_type": "code",
   "execution_count": 3,
   "metadata": {},
   "outputs": [],
   "source": [
    "x_str = 'hello world'\n",
    "x_upper = x_str.upper()\n",
    "x_title = x_str.title()"
   ]
  },
  {
   "cell_type": "code",
   "execution_count": 4,
   "metadata": {
    "tags": []
   },
   "outputs": [
    {
     "output_type": "stream",
     "name": "stdout",
     "text": "140354505184176 140354505184112 140354505150320\n"
    }
   ],
   "source": [
    "print(id(x_title),id(x_upper),id(x_str))"
   ]
  },
  {
   "cell_type": "markdown",
   "metadata": {},
   "source": [
    "## Indexing in Strings"
   ]
  },
  {
   "cell_type": "markdown",
   "metadata": {},
   "source": [
    "<html>\n",
    "<ul>\n",
    "<li> String object is collection of string objects </li>\n",
    "<li> In strings each letter can be accessed by indexing.</li>\n",
    "<li> Indexing in strings starts with zero (Count postion from left to right ) </li>\n",
    "<li> Negative indexing can also be used </li>\n",
    "<li> Negative indexing in string start with negative 1 (Count position from right to left) </li>\n",
    "<li> Collection of letters can also be obtained using slicing </li>\n",
    "<li> Slicing is done using ':' operator </li>\n",
    "</html>"
   ]
  },
  {
   "cell_type": "code",
   "execution_count": 5,
   "metadata": {
    "tags": []
   },
   "outputs": [
    {
     "output_type": "stream",
     "name": "stdout",
     "text": "x_str[3] : l,\nx_str[0] : h\nUsing negative index -1 to get the last character  x_str[-1]: d\n"
    }
   ],
   "source": [
    "## Indexing\n",
    "print(f'x_str[3] : {x_str[3]},\\nx_str[0] : {x_str[0]}')\n",
    "print(f'Using negative index -1 to get the last character  x_str[-1]: {x_str[-1]}')\n"
   ]
  },
  {
   "cell_type": "code",
   "execution_count": 6,
   "metadata": {
    "tags": []
   },
   "outputs": [
    {
     "output_type": "stream",
     "name": "stdout",
     "text": "x_str[0:5] : hello\nx_str[5:] :  world\nx_str[-5:] : world\n"
    }
   ],
   "source": [
    "## Slicing\n",
    "# Collection of leeters from 0th position to till 5; 5th element is not included\n",
    "print(f'x_str[0:5] : {x_str[0:5]}')\n",
    "# If slicing has to be done till the end of the string , the ending position need not be explicitly mentioned\n",
    "print(f'x_str[5:] : {x_str[5:]}')\n",
    "#Slicing can done with negative indexes also\n",
    "print(f'x_str[-5:] : {x_str[-5:]}') \n"
   ]
  },
  {
   "cell_type": "code",
   "execution_count": 7,
   "metadata": {
    "tags": []
   },
   "outputs": [
    {
     "output_type": "stream",
     "name": "stdout",
     "text": "x_str[0:5:2] : hlo\nx_str[::3] : hlwl\nx_str[::-1] : dlrow olleh\n"
    }
   ],
   "source": [
    "## Slicing with a counter attribute\n",
    "print(f'x_str[0:5:2] : {x_str[0:5:2]}') ## Integer 2 will pick every 2nd count\n",
    "print(f'x_str[::3] : {x_str[::3]}') ## Integer 3 will pick every 3rd count\n",
    "print(f'x_str[::-1] : {x_str[::-1]}') ## -1 counter will start from picking from right to left"
   ]
  },
  {
   "cell_type": "markdown",
   "metadata": {},
   "source": [
    "## Concatination of Strings"
   ]
  },
  {
   "cell_type": "markdown",
   "metadata": {},
   "source": [
    "<html>\n",
    "<p> Strings can be added using '+' operator </p>\n",
    "</html>\n"
   ]
  },
  {
   "cell_type": "code",
   "execution_count": 8,
   "metadata": {
    "tags": []
   },
   "outputs": [
    {
     "output_type": "stream",
     "name": "stdout",
     "text": "Resulted string :hellopython\n"
    }
   ],
   "source": [
    "str_1 = x_str[0:5] # Get hello from hello world\n",
    "str_2 = 'python' # Create new string object 'python' and reference is assigned to variable 'str_2'\n",
    "res_str = str_1 + str_2 # Combining the strings creates an new string object and referred by res_str \n",
    "print(f'Resulted string :{res_str}')"
   ]
  },
  {
   "cell_type": "code",
   "execution_count": null,
   "metadata": {},
   "outputs": [],
   "source": []
  },
  {
   "cell_type": "markdown",
   "metadata": {},
   "source": [
    "## Strings are Immutable"
   ]
  },
  {
   "cell_type": "markdown",
   "metadata": {},
   "source": [
    "<html>\n",
    "<p> String Objects once created cannot be changed. The memory reference of each letter in a word or word in a sentence cannot be changed.</p>\n",
    "<p>This characteristic in a string object of being not able to modify after creation is called <b> Immutability </b></p>\n",
    "<p> Any operation violated this will generate an Type Error stating 'str' object does not support item assignment\n",
    "</html>\n"
   ]
  },
  {
   "cell_type": "code",
   "execution_count": 9,
   "metadata": {},
   "outputs": [
    {
     "output_type": "error",
     "ename": "TypeError",
     "evalue": "'str' object does not support item assignment",
     "traceback": [
      "\u001b[0;31m---------------------------------------------------------------------------\u001b[0m",
      "\u001b[0;31mTypeError\u001b[0m                                 Traceback (most recent call last)",
      "\u001b[0;32m<ipython-input-9-b528400ef5bb>\u001b[0m in \u001b[0;36m<module>\u001b[0;34m\u001b[0m\n\u001b[0;32m----> 1\u001b[0;31m \u001b[0mx_str\u001b[0m\u001b[0;34m[\u001b[0m\u001b[0;36m0\u001b[0m\u001b[0;34m]\u001b[0m \u001b[0;34m=\u001b[0m \u001b[0;34m'H'\u001b[0m\u001b[0;34m\u001b[0m\u001b[0;34m\u001b[0m\u001b[0m\n\u001b[0m",
      "\u001b[0;31mTypeError\u001b[0m: 'str' object does not support item assignment"
     ]
    }
   ],
   "source": [
    "x_str[0] = 'H'"
   ]
  },
  {
   "cell_type": "markdown",
   "metadata": {},
   "source": [
    "## Command chain in Strings"
   ]
  },
  {
   "cell_type": "code",
   "execution_count": 10,
   "metadata": {
    "tags": []
   },
   "outputs": [
    {
     "output_type": "stream",
     "name": "stdout",
     "text": "Hello Python\n"
    }
   ],
   "source": [
    "final_str = x_str.replace('world','python').title()\n",
    "# 'world' string is replaced by 'python' and a new string object gets created.\n",
    "# Function title() is applied to this new string object created. \n",
    "# This operation creates another new string whose reference is assigned to final_str\n",
    "print(final_str)"
   ]
  },
  {
   "cell_type": "markdown",
   "metadata": {},
   "source": [
    "## Input from User"
   ]
  },
  {
   "cell_type": "markdown",
   "metadata": {},
   "source": [
    "<html>\n",
    "<p> Python function input() can be used to take input from the users</p>\n",
    "<p> input() function always returns an string object </p>\n",
    "</html>"
   ]
  },
  {
   "cell_type": "code",
   "execution_count": 11,
   "metadata": {
    "tags": []
   },
   "outputs": [
    {
     "output_type": "stream",
     "name": "stdout",
     "text": "Help on method raw_input in module ipykernel.kernelbase:\n\nraw_input(prompt='') method of ipykernel.ipkernel.IPythonKernel instance\n    Forward raw_input to frontends\n    \n    Raises\n    ------\n    StdinNotImplentedError if active frontend doesn't support stdin.\n\n"
    }
   ],
   "source": [
    "help(input)"
   ]
  },
  {
   "cell_type": "code",
   "execution_count": 12,
   "metadata": {
    "tags": []
   },
   "outputs": [
    {
     "output_type": "stream",
     "name": "stdout",
     "text": "The name entered is  harry\n"
    }
   ],
   "source": [
    "# Input function outputs the prompt ' Enter your name: ' \n",
    "# It creates an string object from the user entry\n",
    "# This object reference is given to the variable name \n",
    "name = input('Enter the your name :')\n",
    "print(f'The name entered is  {name}')"
   ]
  },
  {
   "cell_type": "markdown",
   "metadata": {},
   "source": [
    "<html>\n",
    "    <b> 1. Write a program to \n",
    "        <br>a. To take two inputs from user, first name and last name\n",
    "        <br>b. Print the full name of the user with greetings. Example hello Harry Potter\n",
    "        "
   ]
  },
  {
   "cell_type": "markdown",
   "metadata": {},
   "source": [
    "<html>\n",
    "    <b>2. Write a program which prompts the user for a Celsius temperature,\n",
    "        convert the temperature to Fahrenheit, and print out the converted temperature.</b>"
   ]
  },
  {
   "cell_type": "markdown",
   "metadata": {},
   "source": [
    "### Hint:\n",
    "#### Formula:\n",
    " $ (0°C × 9/5) + 32 = 32°F $ "
   ]
  },
  {
   "cell_type": "markdown",
   "metadata": {},
   "source": [
    "<html>\n",
    "    <b> 3. Write a program to prompt the user for hours and rate per hour to\n",
    "        compute gross pay.</b>\n",
    "    <p> <b><i>Expected Output</i></b></p>\n",
    "    <p><i>Enter Hours</i>: 35 </p>\n",
    "    <p><i>Enter Rate</i>: 2.75</p>\n",
    "    <p><i>Pay</i>: 96.25</p>"
   ]
  },
  {
   "cell_type": "code",
   "execution_count": null,
   "metadata": {
    "tags": []
   },
   "outputs": [],
   "source": []
  }
 ]
}